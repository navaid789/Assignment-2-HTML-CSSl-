{
  "nbformat": 4,
  "nbformat_minor": 0,
  "metadata": {
    "colab": {
      "provenance": [],
      "authorship_tag": "ABX9TyP4S4gm79c783+JCvluldSO",
      "include_colab_link": true
    },
    "kernelspec": {
      "name": "python3",
      "display_name": "Python 3"
    },
    "language_info": {
      "name": "python"
    }
  },
  "cells": [
    {
      "cell_type": "markdown",
      "metadata": {
        "id": "view-in-github",
        "colab_type": "text"
      },
      "source": [
        "<a href=\"https://colab.research.google.com/github/navaid789/Assignment-2-HTML-CSSl-/blob/main/00_intro_python_03_fahrenheit_to_celsius_md.ipynb\" target=\"_parent\"><img src=\"https://colab.research.google.com/assets/colab-badge.svg\" alt=\"Open In Colab\"/></a>"
      ]
    },
    {
      "cell_type": "code",
      "execution_count": 3,
      "metadata": {
        "colab": {
          "base_uri": "https://localhost:8080/"
        },
        "id": "9qSxX2bvVc_E",
        "outputId": "02d12b58-d197-4c96-fdbf-a3153fd341de"
      },
      "outputs": [
        {
          "output_type": "stream",
          "name": "stdout",
          "text": [
            "Enter temperature in Fahrenheit: 76\n",
            "Temperature: 76.0F = 24.444444444444443C\n"
          ]
        }
      ],
      "source": [
        "#Write a program which prompts the user for a temperature in Fahrenheit (this can be a number with decimal places!) and outputs the temperature converted to Celsius.\n",
        "\n",
        "#The Celsius scale is widely used to measure temperature, but places still use Fahrenheit. Fahrenheit is another unit for temperature, but the scale is different from Celsius -- for example, 0 degrees Celsius is 32 degrees Fahrenheit!\n",
        "\n",
        "#The equation you should use for converting from Fahrenheit to Celsius is the following:\n",
        "\n",
        "#degrees_celsius = (degrees_fahrenheit - 32) * 5.0/9.0\n",
        "\n",
        "#(Note. The .0 after the 5 and 9 matters in the line above!!!)\n",
        "\n",
        "#Here's a sample run of the program (user input is in bold italics):\n",
        "\n",
        "#Enter temperature in Fahrenheit: 76\n",
        "\n",
        "#Temperature: 76.0F = 24.444444444444443C\n",
        "\n",
        "\n",
        "\n",
        "def main():\n",
        "\n",
        "# Prompt the user for temperature in Fahrenheit\n",
        "\n",
        "  fahrenheit = float(input(\"Enter temperature in Fahrenheit: \"))\n",
        "\n",
        "# Convert Fahrenheit to Celsius\n",
        "  celsius = (fahrenheit - 32) * 5.0 / 9.0\n",
        "\n",
        "# Display the result\n",
        "  print(f\"Temperature: {fahrenheit}F = {celsius}C\")\n",
        "\n",
        "# This provided line is required at the end of\n",
        "# Python file to call the main() function.\n",
        "if __name__ == '__main__':\n",
        "    main()"
      ]
    }
  ]
}