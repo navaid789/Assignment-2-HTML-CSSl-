{
  "nbformat": 4,
  "nbformat_minor": 0,
  "metadata": {
    "colab": {
      "provenance": [],
      "authorship_tag": "ABX9TyN2KxRWDfBVCEDNT5oJHYSH",
      "include_colab_link": true
    },
    "kernelspec": {
      "name": "python3",
      "display_name": "Python 3"
    },
    "language_info": {
      "name": "python"
    }
  },
  "cells": [
    {
      "cell_type": "markdown",
      "metadata": {
        "id": "view-in-github",
        "colab_type": "text"
      },
      "source": [
        "<a href=\"https://colab.research.google.com/github/navaid789/Assignment-2-HTML-CSSl-/blob/main/00_intro_python_05_triangle_perimeter_md.ipynb\" target=\"_parent\"><img src=\"https://colab.research.google.com/assets/colab-badge.svg\" alt=\"Open In Colab\"/></a>"
      ]
    },
    {
      "cell_type": "code",
      "execution_count": 8,
      "metadata": {
        "colab": {
          "base_uri": "https://localhost:8080/"
        },
        "id": "ExQ7g6eAkS_f",
        "outputId": "a65baa7c-c14f-4dac-d2d8-3f38be1dc4e5"
      },
      "outputs": [
        {
          "output_type": "stream",
          "name": "stdout",
          "text": [
            "What is the length of side 1? 3\n",
            "What is the length of side 2? 4\n",
            "What is the length of side 3? 5.5\n",
            "The perimeter of the triangle is 12.5\n"
          ]
        }
      ],
      "source": [
        "#Prompt the user to enter the lengths of each side of a triangle and then calculate and print the perimeter of the triangle (the sum of all of the side lengths).\n",
        "\n",
        "#Here's a sample run of the program (user input is in bold italics):\n",
        "\n",
        "#What is the length of side 1? 3\n",
        "\n",
        "#What is the length of side 2? 4\n",
        "\n",
        "#What is the length of side 3? 5.5\n",
        "\n",
        "#The perimeter of the triangle is 12.5\n",
        "\n",
        "def main():\n",
        "    # Get the 3 side lengths of the triangle\n",
        "    side1: float = float(input(\"What is the length of side 1? \"))\n",
        "    side2: float = float(input(\"What is the length of side 2? \"))\n",
        "    side3: float = float(input(\"What is the length of side 3? \"))\n",
        "\n",
        "    # Print out the perimeter (sum of the sides) of the triangle, make sure to cast it to a str when concatenating!\n",
        "    print(\"The perimeter of the triangle is \"+ str(side1 + side2 + side3))\n",
        "\n",
        "\n",
        "# There is no need to edit code beyond this point\n",
        "\n",
        "if __name__ == '__main__':\n",
        "    main()\n"
      ]
    }
  ]
}