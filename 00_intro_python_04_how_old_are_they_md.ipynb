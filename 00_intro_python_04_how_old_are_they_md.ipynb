{
  "nbformat": 4,
  "nbformat_minor": 0,
  "metadata": {
    "colab": {
      "provenance": [],
      "authorship_tag": "ABX9TyPJ7CqRomWq7WjW+jzmh206",
      "include_colab_link": true
    },
    "kernelspec": {
      "name": "python3",
      "display_name": "Python 3"
    },
    "language_info": {
      "name": "python"
    }
  },
  "cells": [
    {
      "cell_type": "markdown",
      "metadata": {
        "id": "view-in-github",
        "colab_type": "text"
      },
      "source": [
        "<a href=\"https://colab.research.google.com/github/navaid789/Assignment-2-HTML-CSSl-/blob/main/00_intro_python_04_how_old_are_they_md.ipynb\" target=\"_parent\"><img src=\"https://colab.research.google.com/assets/colab-badge.svg\" alt=\"Open In Colab\"/></a>"
      ]
    },
    {
      "cell_type": "code",
      "execution_count": 1,
      "metadata": {
        "colab": {
          "base_uri": "https://localhost:8080/"
        },
        "id": "DNTfViqZigL0",
        "outputId": "fdd27b33-d8d9-4124-cdb3-ded2a0fddd9a"
      },
      "outputs": [
        {
          "output_type": "stream",
          "name": "stdout",
          "text": [
            "Anton is 21\n",
            "Beth is 27\n",
            "Chen is 47\n",
            "Drew is 68\n",
            "Ethan is 47\n"
          ]
        }
      ],
      "source": [
        "#Write a program to solve this age-related riddle!\n",
        "\n",
        "#Anton, Beth, Chen, Drew, and Ethan are all friends. Their ages are as follows:\n",
        "\n",
        "#Anton is 21 years old.\n",
        "\n",
        "#Beth is 6 years older than Anton.\n",
        "\n",
        "#Chen is 20 years older than Beth.\n",
        "\n",
        "#Drew is as old as Chen's age plus Anton's age.\n",
        "\n",
        "#Ethan is the same age as Chen.\n",
        "\n",
        "#Your code should store each person's age to a variable and print their names and ages at the end. The autograder is sensitive to capitalization and punctuation, be careful! Your solution should look like this (the below numbers are made up -- your solution should have the correct values!):\n",
        "\n",
        "def main():\n",
        "    anton : int = 21  # Anton's age is given as 21 years old\n",
        "    beth : int = 6 + anton  # Beth is 6 years older than Anton, so add 6 to Anton's age to get Beth's\n",
        "    chen : int = 20 + beth  # Chen is 20 years older than Beth, so add 20 to Beth's age to get Chen's\n",
        "    drew  : int= chen + anton  # Drew is as old as Chen's age plus Anton's age, so add them together\n",
        "    ethan : int = chen  # Ethan is the same age as Chen, so set Ethan's age equal to Chen's\n",
        "\n",
        "   # Print out all of the ages!\n",
        "    print(\"Anton is \" + str(anton))\n",
        "    print(\"Beth is \" + str(beth))\n",
        "    print(\"Chen is \" + str(chen))\n",
        "    print(\"Drew is \" + str(drew))\n",
        "    print(\"Ethan is \" + str(ethan))\n",
        "\n",
        "\n",
        "# There is no need to edit code beyond this point\n",
        "\n",
        "if __name__ == '__main__':\n",
        "    main()\n"
      ]
    }
  ]
}