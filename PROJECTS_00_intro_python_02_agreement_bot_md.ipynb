{
  "nbformat": 4,
  "nbformat_minor": 0,
  "metadata": {
    "colab": {
      "provenance": [],
      "authorship_tag": "ABX9TyPvbL4CMjW8U1FASEg7+SQZ",
      "include_colab_link": true
    },
    "kernelspec": {
      "name": "python3",
      "display_name": "Python 3"
    },
    "language_info": {
      "name": "python"
    }
  },
  "cells": [
    {
      "cell_type": "markdown",
      "metadata": {
        "id": "view-in-github",
        "colab_type": "text"
      },
      "source": [
        "<a href=\"https://colab.research.google.com/github/navaid789/Assignment-2-HTML-CSSl-/blob/main/PROJECTS_00_intro_python_02_agreement_bot_md.ipynb\" target=\"_parent\"><img src=\"https://colab.research.google.com/assets/colab-badge.svg\" alt=\"Open In Colab\"/></a>"
      ]
    },
    {
      "cell_type": "code",
      "execution_count": 5,
      "metadata": {
        "colab": {
          "base_uri": "https://localhost:8080/"
        },
        "id": "eLAHUAYQae7l",
        "outputId": "44b97215-d563-4a26-83e2-8439f038cd01"
      },
      "outputs": [
        {
          "output_type": "stream",
          "name": "stdout",
          "text": [
            "What's your favorite animal? cow\n",
            "My favorite animal is also cow!\n"
          ]
        }
      ],
      "source": [
        "def main():\n",
        "    # Ask the user for their favorite animal\n",
        "    favorite_animal = input(\"What's your favorite animal? \")\n",
        "\n",
        "    # Respond with a message including the user's favorite animal\n",
        "    print(f\"My favorite animal is also {favorite_animal}!\")\n",
        "\n",
        "# This provided line is required at the end of\n",
        "# Python file to call the main() function.\n",
        "if __name__ == '__main__':\n",
        "    main()\n"
      ]
    }
  ]
}